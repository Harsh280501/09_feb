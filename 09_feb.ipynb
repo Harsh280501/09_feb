{
 "cells": [
  {
   "cell_type": "markdown",
   "id": "d4d0e853-d377-407e-ad52-a9f9aa440438",
   "metadata": {},
   "source": [
    "# Q1 Create a vehicle class with an init method having instance variables as name_of_vehicle, max_speed and average_of_vehicle."
   ]
  },
  {
   "cell_type": "code",
   "execution_count": 1,
   "id": "aeaff95a-c682-435b-9ef2-8c3fc5ce6338",
   "metadata": {},
   "outputs": [],
   "source": [
    "class vehicle:\n",
    "    \n",
    "    def __init__(self,name_of_vehicle,max_speed,average_of_vehicle):\n",
    "        \n",
    "        self.name_of_vehicle = name_of_vehicle\n",
    "        self.max_speed = max_speed\n",
    "        self.average_of_vehicle = average_of_vehicle\n",
    "        \n",
    "    def get_name_of_vehicle(self):\n",
    "        return self.name_of_vehicle\n",
    "        "
   ]
  },
  {
   "cell_type": "code",
   "execution_count": 2,
   "id": "18ed972a-67ec-40d1-890f-e8e7da45128e",
   "metadata": {},
   "outputs": [],
   "source": [
    "car_details = vehicle(\"i20\",100,20)"
   ]
  },
  {
   "cell_type": "markdown",
   "id": "85748797-e34e-4a8c-8d28-d2d8b73e7b00",
   "metadata": {},
   "source": [
    "# Q2. Create a child class car from the vehicle class created in Que 1, which will inherit the vehicle class. Create a method named seating_capacity which takes capacity as an argument and returns the name ofthe vehicle and its seating capacity."
   ]
  },
  {
   "cell_type": "code",
   "execution_count": 3,
   "id": "2ca23069-ce48-43da-9340-38d2ea2821be",
   "metadata": {},
   "outputs": [],
   "source": [
    "class car(vehicle):\n",
    "    \n",
    "    def seating_capacity(self,capacity):\n",
    "        self.capacity = capacity\n",
    "        return self.capacity\n"
   ]
  },
  {
   "cell_type": "code",
   "execution_count": 4,
   "id": "d7220a97-976d-4dac-a90a-1a8e417fec22",
   "metadata": {},
   "outputs": [],
   "source": [
    "hyundai = car(\"i20\",100,20)\n"
   ]
  },
  {
   "cell_type": "code",
   "execution_count": 5,
   "id": "d96cd5c1-a247-4d9b-9b49-b899de3a6418",
   "metadata": {},
   "outputs": [
    {
     "data": {
      "text/plain": [
       "7"
      ]
     },
     "execution_count": 5,
     "metadata": {},
     "output_type": "execute_result"
    }
   ],
   "source": [
    "hyundai.seating_capacity(7)"
   ]
  },
  {
   "cell_type": "code",
   "execution_count": 6,
   "id": "e62f4ec8-98a4-4ca7-9680-6bf2ab8a72b0",
   "metadata": {},
   "outputs": [
    {
     "data": {
      "text/plain": [
       "'i20'"
      ]
     },
     "execution_count": 6,
     "metadata": {},
     "output_type": "execute_result"
    }
   ],
   "source": [
    "hyundai.get_name_of_vehicle()"
   ]
  },
  {
   "cell_type": "markdown",
   "id": "3d4530d5-5d6f-4f77-bea6-25456f6af784",
   "metadata": {},
   "source": [
    "# Q3 What is multiple inheritance? Write a python code to demonstrate multiple inheritance."
   ]
  },
  {
   "cell_type": "code",
   "execution_count": 7,
   "id": "e845ece3-a2e2-4e68-95aa-eeefc05b07d9",
   "metadata": {},
   "outputs": [],
   "source": [
    "class A:\n",
    "    \n",
    "    def meth_a(self):\n",
    "        return \"This method belongs to class A\"\n",
    "    \n",
    "    \n",
    "class B : \n",
    "    \n",
    "    def meth_b(self):\n",
    "        return \"This method belongs to class B\"\n",
    "    \n",
    "\n",
    "class C(A,B):\n",
    "    \n",
    "    def meth_c(self):\n",
    "        return \"This method belongs to class C\"\n",
    "\n",
    "        \n",
    "        \n",
    "        \n",
    "c = C()\n"
   ]
  },
  {
   "cell_type": "code",
   "execution_count": 8,
   "id": "76591a88-10d3-44f4-9fc2-a491bef679e7",
   "metadata": {},
   "outputs": [
    {
     "data": {
      "text/plain": [
       "'This method belongs to class A'"
      ]
     },
     "execution_count": 8,
     "metadata": {},
     "output_type": "execute_result"
    }
   ],
   "source": [
    "c.meth_a()"
   ]
  },
  {
   "cell_type": "code",
   "execution_count": 9,
   "id": "11e3e7b8-b0a0-4808-aead-fec5fb40445d",
   "metadata": {},
   "outputs": [
    {
     "data": {
      "text/plain": [
       "'This method belongs to class B'"
      ]
     },
     "execution_count": 9,
     "metadata": {},
     "output_type": "execute_result"
    }
   ],
   "source": [
    "c.meth_b()"
   ]
  },
  {
   "cell_type": "code",
   "execution_count": 10,
   "id": "8cfe4bd5-7553-4c41-9ad5-fed1800c06b2",
   "metadata": {},
   "outputs": [
    {
     "data": {
      "text/plain": [
       "'This method belongs to class C'"
      ]
     },
     "execution_count": 10,
     "metadata": {},
     "output_type": "execute_result"
    }
   ],
   "source": [
    "c.meth_c()"
   ]
  },
  {
   "cell_type": "markdown",
   "id": "587cb7fa-e1df-45f6-81f0-044d86740884",
   "metadata": {},
   "source": [
    "# Q4. What are getter and setter in python? Create a class and create a getter and a setter method in this class."
   ]
  },
  {
   "cell_type": "code",
   "execution_count": 11,
   "id": "19ae83c0-410b-446e-a151-dd59ab3f745d",
   "metadata": {},
   "outputs": [
    {
     "data": {
      "text/plain": [
       "'\\n\\nGetter : This method helps to get a particular variable from the class by defing a function and returning the varibale back\\n\\nSetter : This method helps to set a particular variable from the class by defing a function and setting the new value of the varibale\\n\\n'"
      ]
     },
     "execution_count": 11,
     "metadata": {},
     "output_type": "execute_result"
    }
   ],
   "source": [
    "\"\"\"\n",
    "\n",
    "Getter : This method helps to get a particular variable from the class by defing a function and returning the varibale back\n",
    "\n",
    "Setter : This method helps to set a particular variable from the class by defing a function and setting the new value of the varibale\n",
    "\n",
    "\"\"\"\n"
   ]
  },
  {
   "cell_type": "code",
   "execution_count": 12,
   "id": "5d74dc27-f6bf-4e8b-a273-5605312ed629",
   "metadata": {},
   "outputs": [],
   "source": [
    "class vehicle:\n",
    "    \n",
    "    def __init__(self,name_of_vehicle,max_speed,average_of_vehicle):\n",
    "        \n",
    "        self.name_of_vehicle = name_of_vehicle\n",
    "        self.max_speed = max_speed\n",
    "        self.average_of_vehicle = average_of_vehicle\n",
    "        \n",
    "    def get_name_of_vehicle(self):\n",
    "        return self.name_of_vehicle\n",
    "    \n",
    "    def set_name_of_vehicle(self, name_of_vehicle):\n",
    "        self.name_of_vehicle = name_of_vehicle\n",
    "\n",
    "        "
   ]
  },
  {
   "cell_type": "code",
   "execution_count": 13,
   "id": "db3c38c6-8ae2-4133-a713-945f11939264",
   "metadata": {},
   "outputs": [],
   "source": [
    "toyata = vehicle(\"innova\",100,15)"
   ]
  },
  {
   "cell_type": "code",
   "execution_count": 14,
   "id": "74070213-25dd-4abc-8e08-f1dd14e530de",
   "metadata": {},
   "outputs": [
    {
     "data": {
      "text/plain": [
       "'innova'"
      ]
     },
     "execution_count": 14,
     "metadata": {},
     "output_type": "execute_result"
    }
   ],
   "source": [
    "toyata.get_name_of_vehicle()"
   ]
  },
  {
   "cell_type": "code",
   "execution_count": 15,
   "id": "8f23e56d-a2f1-4316-8e23-d5b8b20b06fb",
   "metadata": {},
   "outputs": [
    {
     "data": {
      "text/plain": [
       "'fortuner'"
      ]
     },
     "execution_count": 15,
     "metadata": {},
     "output_type": "execute_result"
    }
   ],
   "source": [
    "toyata.set_name_of_vehicle(\"fortuner\")\n",
    "toyata.get_name_of_vehicle()"
   ]
  },
  {
   "cell_type": "markdown",
   "id": "ee25dadf-113e-4cc8-acba-29ffb4cb0b0b",
   "metadata": {},
   "source": [
    "# Q5.What is method overriding in python? Write a python code to demonstrate method overriding."
   ]
  },
  {
   "cell_type": "code",
   "execution_count": 16,
   "id": "a8cb4fe0-9dce-4098-8e83-31ef3993d0f3",
   "metadata": {},
   "outputs": [
    {
     "data": {
      "text/plain": [
       "'\\n\\nOverriding : The method overriding in Python means creating two methods with the same name but differ in the programming logic. The concept of Method overriding allows us to change or override the Parent Class function in the Child Class.\\n\\n'"
      ]
     },
     "execution_count": 16,
     "metadata": {},
     "output_type": "execute_result"
    }
   ],
   "source": [
    "\"\"\"\n",
    "\n",
    "Overriding : The method overriding in Python means creating two methods with the same name but differ in the programming logic. The concept of Method overriding allows us to change or override the Parent Class function in the Child Class.\n",
    "\n",
    "\"\"\""
   ]
  },
  {
   "cell_type": "code",
   "execution_count": 17,
   "id": "a7f4f684-3962-41e9-92c5-bb82f8f34707",
   "metadata": {},
   "outputs": [
    {
     "name": "stdout",
     "output_type": "stream",
     "text": [
      "This message is from Emp\n",
      "------------\n",
      "This is department\n"
     ]
    }
   ],
   "source": [
    "class Employee:\n",
    "      \n",
    "    def message(self):\n",
    "        print('This message is from Emp')\n",
    "  \n",
    "\n",
    "\n",
    "                    \n",
    "class Department(Employee):\n",
    "  \n",
    "    def message(self):\n",
    "        print('This is department')\n",
    "  \n",
    "        \n",
    "emp = Employee()\n",
    "emp.message()\n",
    "  \n",
    "print('------------')\n",
    "\n",
    "dept = Department()\n",
    "dept.message()"
   ]
  },
  {
   "cell_type": "code",
   "execution_count": null,
   "id": "4987f477-f524-422a-8f46-9985afc474f0",
   "metadata": {},
   "outputs": [],
   "source": []
  }
 ],
 "metadata": {
  "kernelspec": {
   "display_name": "Python 3 (ipykernel)",
   "language": "python",
   "name": "python3"
  },
  "language_info": {
   "codemirror_mode": {
    "name": "ipython",
    "version": 3
   },
   "file_extension": ".py",
   "mimetype": "text/x-python",
   "name": "python",
   "nbconvert_exporter": "python",
   "pygments_lexer": "ipython3",
   "version": "3.10.8"
  }
 },
 "nbformat": 4,
 "nbformat_minor": 5
}
